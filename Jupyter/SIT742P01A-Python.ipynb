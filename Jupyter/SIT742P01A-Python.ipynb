{
  "nbformat": 4,
  "nbformat_minor": 0,
  "metadata": {
    "colab": {
      "name": "SIT742P01A-Python.ipynb",
      "provenance": [],
      "collapsed_sections": []
    },
    "kernelspec": {
      "display_name": "Python 3",
      "language": "python",
      "name": "python3"
    },
    "language_info": {
      "codemirror_mode": {
        "name": "ipython",
        "version": 3
      },
      "file_extension": ".py",
      "mimetype": "text/x-python",
      "name": "python",
      "nbconvert_exporter": "python",
      "pygments_lexer": "ipython3",
      "version": "3.7.7"
    }
  },
  "cells": [
    {
      "cell_type": "markdown",
      "metadata": {
        "id": "UP2Th8B0LLey"
      },
      "source": [
        "# SIT742: Modern Data Science \n",
        "**(Week 01: Programming Python)**\n",
        "\n",
        "---\n",
        "- Materials in this module include resources collected from various open-source online repositories.\n",
        "- You are free to use, change and distribute this package.\n",
        "- If you found any issue/bug for this document, please submit an issue at [tulip-lab/sit742](https://github.com/tulip-lab/sit742/issues)\n",
        "\n",
        "\n",
        "\n",
        "Prepared by **SIT742 Teaching Team**\n",
        "\n",
        "---\n",
        "\n",
        "\n",
        "# Session 1A - Jupyter notebook and basic data types\n",
        "\n",
        "\n",
        "In this session, \n",
        "you will learn how to run *Python* code under  **Jupyter notebook** (aka IPython notebook). You have two options for the environment:\n",
        "\n",
        "1. Install the [Anaconda](https://www.anaconda.com/distribution/), and run it locally; **OR**\n",
        "1. Use one cloud data science platform such as:\n",
        "    - [Google Colab](https://colab.research.google.com): SIT742 lab session will use Google Colab. \n",
        "    - [IBM Cloud](https://www.ibm.com/cloud)\n",
        "    - [DataBricks](https://community.cloud.databricks.com)\n",
        "\n",
        "\n",
        "\n",
        "In Jupyter notebook, you will be able to execute and modify your *Python* code more efficiently. \n",
        "\n",
        "- **If you are using Google Colab for SIT742 lab session practicals, you can skip this Part 1 of this Session 1A, and start with Part 2 directly.**\n",
        "\n",
        "\n",
        "\n",
        "In addition, you will be given an introduction on *Python*'s basic data types, \n",
        "getting familiar with **string**, **number**, data conversion, data comparison and \n",
        "data input/output. \n",
        "\n",
        "Hopefully, by using **Python** and the powerful **IPython Notebook** environment, \n",
        "you will find writing programs both fun and easy. \n"
      ]
    },
    {
      "cell_type": "markdown",
      "metadata": {
        "id": "V0vSWcazLLe3"
      },
      "source": [
        "## Content\n",
        "\n",
        "### Part 1 Create your own Jupyter notebook\n",
        "\n",
        "1.1 [Start a notebook server](#cell_start)\n",
        "\n",
        "1.2 [A tour of Jupyter notebook](#cell_tour)\n",
        "\n",
        "1.3 [IPython notebook interface](#cell_interface)\n",
        "\n",
        "1.4 [Open and close notebooks](#cell_close)\n",
        "\n",
        "### Part 2 Basic data types\n",
        "\n",
        "2.1 [String](#cell_string)\n",
        "\n",
        "2.2 [Number](#cell_number)\n",
        "\n",
        "2.3 [Data conversion and comparison](#cell_conversion)\n",
        "\n",
        "2.4 [Input and output](#cell_input)\n"
      ]
    },
    {
      "cell_type": "markdown",
      "metadata": {
        "id": "DAeickflLLe7"
      },
      "source": [
        "# Part 1. Create your own Jupyter notebook\n",
        "\n",
        "- **If you are using Google Colab for SIT742 lab session practicals, you can ignore this Part 1, and start with Part 2.**\n",
        "\n",
        "\n",
        "This notebook will show you how to start an IPython notebook session. It guides you through the process of creating your own notebook. It provides you details on the notebook interface and show you how to navigate with a notebook and manipulate its components. "
      ]
    },
    {
      "cell_type": "markdown",
      "metadata": {
        "id": "C6uxTijTLLe_"
      },
      "source": [
        "<a id = \"cell_start\"></a>"
      ]
    },
    {
      "cell_type": "markdown",
      "metadata": {
        "id": "JO2tcWluLLfB"
      },
      "source": [
        "     \n",
        "## 1. 1 Start a notebook server\n",
        "\n",
        "As described in Part 1, you start the IPython notebook server by keying in the command in a terminal window/command line window.\n",
        "\n",
        "However,  before you do this, make sure you have created a folder **p01** under **H:/sit742**, download the file **SIT742P01A-Python.ipynb** notebook, and saved it under **H:/sit742/p01**.\n",
        "\n",
        "If you are using [Google Colab](https://colab.research.google.com), you can upload this notebook to Google Colab and run it from there. If any difficulty, please ask your tutor, or check the CloudDeakin discussions.\n",
        "\n",
        "\n",
        "After you complete this, you can now  switch  working directory to **H:/sit742**, and start the IPython notebook server by the following commands:"
      ]
    },
    {
      "cell_type": "markdown",
      "metadata": {
        "id": "sxivgj4ULLfE"
      },
      "source": [
        "IPython notebook %don't run this in notebook, run it on command line to activate the server"
      ]
    },
    {
      "cell_type": "markdown",
      "metadata": {
        "id": "yWJLYqESLLfH"
      },
      "source": [
        "You can see the message in the terminal windows as follows:\n",
        "\n",
        "\n",
        "<img src=\"https://raw.githubusercontent.com/tuliplab/mds/master/Jupyter/image/start-workspace.jpg\">\n",
        "\n",
        "This will open a new browser window(or a new tab in your browser window). In the browser, there is an **dashboard**  page which shows you all the folders and files under **sit742** folder\n",
        "\n",
        "\n",
        "<img src=\"https://raw.githubusercontent.com/tuliplab/mds/master/Jupyter/image/start-index.jpg\">\n",
        " "
      ]
    },
    {
      "cell_type": "markdown",
      "metadata": {
        "id": "HTSWM3swLLfJ"
      },
      "source": [
        "<a id = \"cell_tour\"></a>"
      ]
    },
    {
      "cell_type": "markdown",
      "metadata": {
        "id": "Slhkb9iqLLfM"
      },
      "source": [
        " \n",
        " ## 1.2  A tour of Jupyter notebook \n",
        " \n",
        " ###  Create a new Jupyter notebook\n",
        " \n",
        " \n",
        " To create a new notebook, go to the menu bar and select **File -> New Notebook -> Python 3**\n",
        "\n",
        "By default, the new notebook is named **Untitled**. To give your notebook a meaningful name, click on the notebook name and rename it. We would like to call our new notebook **hello.ipynb**. Therefore, key in the name **hello**. \n",
        "\n",
        "<img src=\"https://raw.githubusercontent.com/tuliplab/mds/master/Jupyter/image/emptyNotebook.jpg\">\n",
        "\n",
        "\n",
        "\n",
        "###  Run script in code cells\n",
        "\n",
        "After a new notebook is created, there is an empty box in the notebook, called a **cell**. If you double click on the cell, you enter the **edit** mode of the notebook. Now we can  enter the following code in the cell"
      ]
    },
    {
      "cell_type": "markdown",
      "metadata": {
        "id": "KjqBdqFeLLfO"
      },
      "source": [
        "text = \"Hello World\"\n",
        "print(text)"
      ]
    },
    {
      "cell_type": "markdown",
      "metadata": {
        "id": "NYDnH3V1LLfR"
      },
      "source": [
        "After this,  press **CTRL + ENTER**, and execute the cell. The result will be shown after the cell. \n",
        "\n",
        "\n",
        "\n",
        "<img src=\"https://raw.githubusercontent.com/tuliplab/mds/master/Jupyter/image/hello-world.jpg\">\n",
        "\n",
        "\n",
        "\n",
        "\n",
        "After a cell is executed, the notebook is switched to the **Command** mode. In this mode, you can manipulate the notebook and its component. Alternatively, you can  use **ESC** key to switch from **Edit** mode to **Command** mode without executing code. \n",
        "\n",
        "To modify the code you entered in the cell, **double click** the cell again and modify its content. For example, try to change the first line of previous cell into the following code:"
      ]
    },
    {
      "cell_type": "markdown",
      "metadata": {
        "id": "TJQbOFqJLLfU"
      },
      "source": [
        "text = \"Good morning World!\""
      ]
    },
    {
      "cell_type": "markdown",
      "metadata": {
        "id": "YhgTgof0LLfX"
      },
      "source": [
        "Afterwards,  press **CTRL + ENTER**, and the new output is displayed. \n",
        "\n",
        "As you can see, you are switching between two modes, **Command** and **Edit**, when editing a notebook. We will in later section look into these two operation modes of closely. Now practice  switching between the two modes until you are comfortable with them. "
      ]
    },
    {
      "cell_type": "markdown",
      "metadata": {
        "id": "N3q3nZrQLLfY"
      },
      "source": [
        "###  Add  new  cells\n",
        "\n",
        "To add a new cell to a notebook, you have to ensure the notebook is in **Command** mode. If not, refer to previous section to switch to **Command** mode. \n",
        "\n",
        "\n",
        "To add cell below the current cell, go to menu bar and click **Insert-> Insert Cell Below**. Alternatively, you can use shortcut i.e. pressing **b** (or **a** to create a cell above).\n",
        "\n",
        "\n",
        "<img src=\"https://raw.githubusercontent.com/tuliplab/mds/master/Jupyter/image/new-cell.jpg\">\n",
        "\n",
        "###  Add markdown cells\n",
        "\n",
        "By default, a code cell is created when adding a new cell. However, IPython notebook also use a **Markdown** cell for enter normal text. We use markdown cell to display the text in specific format and to provide structure for a notebook.  \n",
        "\n",
        "Try to copy the text in the cell below and paste it into your new notebook. Then from toolbar(**Cell->Cell Type**), change cell type from **Code** to **Markdown**. \n",
        "\n",
        "Please note in the following cell, there is a space between the leading **-, #, 0** and the text that follows. "
      ]
    },
    {
      "cell_type": "markdown",
      "metadata": {
        "id": "yE7_3iNPLLfa"
      },
      "source": [
        "## Heading 2\n",
        "Normal text here!\n",
        "\n",
        "### Heading 3\n",
        "ordered list here\n",
        "\n",
        "0. Fruits\n",
        "  0. Banana\n",
        "  0. Grapes\n",
        "0. Veggies\n",
        "  0. Tomato\n",
        "  0. Broccoli\n",
        " \n",
        "Unordered list here\n",
        "- Fruits\n",
        "     - Banana\n",
        "     - Grapes\n",
        "- Veggies\n",
        "     - Tomato\n",
        "     - Broccoli"
      ]
    },
    {
      "cell_type": "markdown",
      "metadata": {
        "id": "slcY8TkgLLfc"
      },
      "source": [
        "Now execute the cell by press **CTRL+ ENTER**. You notebook should look like this:\n",
        "    \n",
        "<img src=\"https://raw.githubusercontent.com/tuliplab/mds/master/Jupyter/image/new-markdown.jpg\">\n"
      ]
    },
    {
      "cell_type": "markdown",
      "metadata": {
        "id": "Wvfjy1AALLff"
      },
      "source": [
        "Here is what the formatted Markdown cell looks like:"
      ]
    },
    {
      "cell_type": "markdown",
      "metadata": {
        "id": "dPvd8QuFLLfh"
      },
      "source": [
        "### Exercise:\n",
        "Click this cell, and practice writing markdown language here..."
      ]
    },
    {
      "cell_type": "markdown",
      "metadata": {
        "id": "FNzxurYjLLfj"
      },
      "source": [
        "<a id = \"cell_interface\"></a>"
      ]
    },
    {
      "cell_type": "markdown",
      "metadata": {
        "id": "R0RQeVQlLLfn"
      },
      "source": [
        " \n",
        "### 1.3 Jupyter notebook interface\n",
        "\n",
        "Now you have created your first notebook, let us have a close look at the user interface of IPython notebook.\n",
        "\n",
        "\n",
        "\n",
        "### Notebook component\n",
        "When you create a new notebook document, you will be presented with the notebook name, a menu bar, a toolbar and an empty code cell.\n",
        "\n",
        "We can see the following components in a notebook:\n",
        "\n",
        "- **Title bar** is at the top of the page and  contains the name of the notebook. Clicking on the notebook name brings up a dialog which allows you to rename it.  Please renaming your notebook name from “Untitled0” to “hello”. This change the file name from **Untitled0.ipynb**  to  **hello.ipynb**.\n",
        "\n",
        "- **Menu bar** presents different options that can be used to manipulate the way the notebook functions.\n",
        "\n",
        "- **Toolbar** gives a quick way of performing the most-used operations within the notebook.\n",
        "\n",
        "- An empty computational cell is show in a new notebook where you can key in your code.\n",
        "\n",
        "The notebook has two modes of operation:\n",
        "\n",
        "- **Edit**: In this mode, a single cell comes into focus and you can enter text or execute code. You activate the **Edit mode** by **clicking on a cell** or **selecting a cell and then pressing Enter key**.\n",
        "\n",
        "- **Command**: In this mode, you can perform tasks that is related to the whole notebook structure. For example, you can move, copy, cut and paste cells. A series of keyboard shortcuts are also available to enable you to perform these tasks more efficient. One easiest way of activating the command mode by pressing the **Esc** key to exit editing mode. \n",
        "\n",
        "\n",
        "\n",
        "\n",
        "\n",
        "### Get help and interrupting\n",
        "\n",
        "\n",
        "To get help on the use of different commands, shortcuts, you can go to the **Help** menu, which provides links to relevant documentation.\n",
        "\n",
        "It is also easy to get help on any objects(including functions and methods). For example, to access help on the sum() function, enter the following line in a cell:"
      ]
    },
    {
      "cell_type": "markdown",
      "metadata": {
        "id": "TGoAeYhYLLfp"
      },
      "source": [
        "sum?"
      ]
    },
    {
      "cell_type": "markdown",
      "metadata": {
        "id": "tbgcq5bXLLfu"
      },
      "source": [
        "The other important thing to know is how to interrupt a computation. This can be done through the menu **Kernel->Interrupt** or **Kernel->Restart**, depending on what works on the situation. We will have chance to try this in later session. "
      ]
    },
    {
      "cell_type": "markdown",
      "metadata": {
        "id": "C0Ra6R3PLLfw"
      },
      "source": [
        "\n",
        "### Notebook cell types\n",
        "\n",
        "\n",
        "There are basically three types of cells in a IPython notebook: Code Cells, Markdown Cells, Raw Cells.\n",
        "\n",
        "\n",
        "**Code cells** : Code cell can be used to enter code and will be executed by Python interpreter. Although we will not use other language in this unit, it is good to know that Jupyter Notebooks  also support JavaScript,  HTML, and Bash commands.\n",
        "\n",
        "*** Markdown cells***: You have created markdown cell in the previous section. Markdown Cells are the easiest way to write and format text. It is also give structure to the notebook. Markdown language is used in this type of cell. Follow this link https://daringfireball.net/projects/markdown/basics  for the basics of the syntax.  \n",
        "\n",
        "This is a  Markdown Cells example notebook sourced from : https://ipython.org/ipython-doc/3/notebook/notebook.html\n",
        "This markdown cheat sheet can also be good reference to the main markdowns you might need to use in our pracs http://nestacms.com/docs/creating-content/markdown-cheat-sheet\n",
        "\n",
        "\n",
        "**Raw cells** : Raw cells, unlike all other Jupyter Notebook cells, have no input-output distinction. This means that raw Cells cannot be rendered into anything other than what they already are. They are mainly used to create examples.\n",
        "\n",
        "\n",
        "As you have seen, you can use the toolbar to choose between different cell types. In addition, shortcut **M** and **Y** can be used to quickly change a cell to Code cell or Markdown cell under Command mode. \n",
        "\n",
        "\n",
        "### Operation modes of Jupyter notebook\n",
        "\n",
        "**Edit mode**\n",
        "\n",
        "\n",
        "\n",
        "The Edit mode is used to enter text in cells and to execute code. As you have seen, after typing some code in the notebook and pressing **CTRL+Enter**, the notebook executes the cell and diplays output. The other two shortcuts used to run code in a cell are **Shift +Enter** and **Alt + Enter**. \n",
        "\n",
        "These three ways to run the the code in a cells are summarized as follows:\n",
        "\n",
        "\n",
        "- Pressing Shift + Enter: This runs the cell and select the next cell(A new cell is created if at the end of the notebook). This is the most usual way to execute a cell.\n",
        "\n",
        "- Pressing Ctrl + Enter: This runs the cell and keep the same cell selected. \n",
        "\n",
        "- Pressing Alt + Enter: This runs the cell and insert a new cell below it. \n",
        "\n",
        "\n",
        "**Command mode**\n",
        "\n",
        "In Command mode, you can edit the notebook as a whole, but not type into individual cells.\n",
        "\n",
        "You can use keyboard shortcut in this mode to perform the notebook and cell actions efficiently. For example, if you are in command mode and press **c**, you will copy the current cell. \n",
        "\n",
        "\n",
        "\n",
        " There are a large amount of shortcuts available in the command mode. However, you do not have to remember all of them, since most actions in the command mode are available in the menu. \n",
        " \n",
        " Here is a list of the most useful shortcuts. They are arranged by the \n",
        " order we recommend you learn so that you can edit the cells efficiently.\n",
        "\n",
        "\n",
        "1. Basic navigation: \n",
        "\n",
        "   - Enter: switch to Edit mode\n",
        "   \n",
        "   - Esc: switch to Command mode\n",
        "   \n",
        "   - Shift+Enter: Execute a cell\n",
        "   \n",
        "   - Up, down: Move to the cell above or below\n",
        "\n",
        "2. Cell types: \n",
        "  - y: switch to code cell)\n",
        "  - m: switch to markdown cell) \n",
        "\n",
        "3. Cell creation: \n",
        "    - a: insert new sell above\n",
        "    - b: insert new cell  below\n",
        "\n",
        "4. Cell deleting:\n",
        "    - press D twice.\n",
        "\n",
        "Note that one of the most common (and frustrating) mistakes when using the\n",
        "notebook is to type something in the wrong mode. Remember to use **Esc**\n",
        "to switch to the Command mode and **Enter** to switch to the Edit mode.\n",
        "Also, remember that **clicking** on a cell automatically places it in the Edit\n",
        "mode, so it will be necessary to press **Esc** to go to the Command mode.\n",
        "\n",
        "### Exercise\n",
        "Please go ahead and try these shortcuts. For example, try to insert new cell, modify and delete an existing cell. You can also switch cells between code type and markdown type, and practice different kinds of formatting in a markdown cell.\n",
        " \n",
        "For a complete list of shortcut in **Command** mode, go to menu bar **Help->Keyboard Shortcuts**. Feel free to explore the other shortcuts. \n",
        " \n",
        "  "
      ]
    },
    {
      "cell_type": "markdown",
      "metadata": {
        "id": "M2sk2y0ILLfy"
      },
      "source": [
        "<a id = \"cell_close\"></a>"
      ]
    },
    {
      "cell_type": "markdown",
      "metadata": {
        "id": "W0JXgsqELLf0"
      },
      "source": [
        " \n",
        " ## 1.4 open and close notebooks\n",
        " \n",
        " You can open multiple notebooks in a browser windows. Simply go to menu bar and choose **File->open...**, and select one **.ipynb** file. The second notebook will be opened in a seperated tab. \n",
        " \n",
        "Now make sure you still have your **hello.ipynb** open. Also please  download **ControlAdvData.ipynb** from cloudDeakin, and save under **H:/sit742/prac01**. Now go to the manu bar, click on **File->open ...**, locate the file **ControlAdvData.ipynb**, and open this file.\n",
        " \n",
        " When you finish your work, you will need to close your notebooks and shutdown the IPython notebook server. Instead of simply close all the tabs in the browser, you need to shutdown each notebook first. To do this, switch to the **Home** tab(**Dashboard page**) and **Running** section(see below). Click on **Shutdown** button to close each notebook. In case  **Dashboard** page is not open,  click on the **Jupyter** icon to reopen it. \n",
        " \n",
        "\n",
        " <img src=\"https://raw.githubusercontent.com/tuliplab/mds/master/Jupyter/image/close-index.jpg\">\n",
        " \n",
        " After each notebook is shutdown, it is time to showdown the IPython notebook server. To do this, go to the terminal window and press **CTRL + C**, and then enter **Y**. After the notebook server is shut down, the terminal window is ready for you to enter any new command.\n",
        " \n",
        "\n",
        " <img src=\"https://raw.githubusercontent.com/tuliplab/mds/master/Jupyter/image/close-terminal.jpg\">\n",
        " \n",
        " "
      ]
    },
    {
      "cell_type": "markdown",
      "metadata": {
        "id": "WKEEelJeLLf2"
      },
      "source": [
        "\n",
        "# Part 2  Basic Data Types\n"
      ]
    },
    {
      "cell_type": "markdown",
      "metadata": {
        "id": "rtm_f4lwLLf4"
      },
      "source": [
        "\n",
        "\n",
        "In this part,  you will get better understanding with Python's basic data type. We will \n",
        "look at **string** and **number** data type in this section. Also covered are:\n",
        "\n",
        "- Data conversion\n",
        "- Data  comparison\n",
        "- Receive  input from users and display results effectively \n",
        "\n",
        "You will be guided through  completing a simple program which receives input from a user,\n",
        " process the information, and display results with specific format. "
      ]
    },
    {
      "cell_type": "markdown",
      "metadata": {
        "id": "THnW6RPgLLf6"
      },
      "source": [
        "## 2.1 String\n",
        "\n",
        "A string is a *sequence of characters*. We are using strings in almost every Python\n",
        "programs. As we can seen in the **”Hello, World!”** example, strings can be specified\n",
        "using single quotes **'**. The **print()** function can be used to display a string."
      ]
    },
    {
      "cell_type": "code",
      "metadata": {
        "colab": {
          "base_uri": "https://localhost:8080/"
        },
        "id": "CG-9AQrmLLf7",
        "outputId": "8a3a1193-73b1-48ee-f5f4-2e76e445f679"
      },
      "source": [
        "print('Hello, World!')"
      ],
      "execution_count": 1,
      "outputs": [
        {
          "output_type": "stream",
          "text": [
            "Hello, World!\n"
          ],
          "name": "stdout"
        }
      ]
    },
    {
      "cell_type": "markdown",
      "metadata": {
        "id": "ZPKAMR6WLLgI"
      },
      "source": [
        "We can also use a variable to store the string value, and use the variable in the\n",
        "**print()** function."
      ]
    },
    {
      "cell_type": "code",
      "metadata": {
        "colab": {
          "base_uri": "https://localhost:8080/"
        },
        "id": "5ZsarfIpLLgO",
        "outputId": "bb653b33-240b-4074-d2f5-d82176768de2"
      },
      "source": [
        "# Assign a string to a variable \n",
        "text = 'Hello, World!'\n",
        "print(text)"
      ],
      "execution_count": 2,
      "outputs": [
        {
          "output_type": "stream",
          "text": [
            "Hello, World!\n"
          ],
          "name": "stdout"
        }
      ]
    },
    {
      "cell_type": "markdown",
      "metadata": {
        "id": "cm9IgbLyLLgU"
      },
      "source": [
        "A *variable* is basically a name that represents (or refers to) some value. We use **=**\n",
        "to assign a value to a variable before we use it. Variable names are given by a programmer\n",
        "in a way that the program is easy to understanding. Variable names are *case sensitive*.\n",
        "It can consist of letters, digits and underscores. However, it can not begin with a digit.\n",
        "For example, **plan9** and **plan_9** are valid names, where **9plan** is not."
      ]
    },
    {
      "cell_type": "code",
      "metadata": {
        "id": "zilCIz-GLLga"
      },
      "source": [
        "text = 'Hello, World!'"
      ],
      "execution_count": 3,
      "outputs": []
    },
    {
      "cell_type": "code",
      "metadata": {
        "colab": {
          "base_uri": "https://localhost:8080/"
        },
        "id": "cHelVR_8LLgg",
        "outputId": "2e13af2e-8c53-4548-ffee-71a29951cc37"
      },
      "source": [
        "# with print() function, content is displayed without quotation mark\n",
        "print(text)"
      ],
      "execution_count": 4,
      "outputs": [
        {
          "output_type": "stream",
          "text": [
            "Hello, World!\n"
          ],
          "name": "stdout"
        }
      ]
    },
    {
      "cell_type": "markdown",
      "metadata": {
        "id": "zshg7IvZLLgp"
      },
      "source": [
        "With variables, we can also display its value without **print()** function. Note that\n",
        "you can not display a variable without **print()** function in Python script(i.e. in a **.py** file). This method only works under interactive mode (i.e. in the notebook).  "
      ]
    },
    {
      "cell_type": "code",
      "metadata": {
        "colab": {
          "base_uri": "https://localhost:8080/",
          "height": 34
        },
        "id": "A8eOiupBLLgq",
        "outputId": "2e311c51-840b-4ad8-ed91-e1ccd32891df"
      },
      "source": [
        "# without print() function, quotation mark is displayed together with content\n",
        "text "
      ],
      "execution_count": 13,
      "outputs": [
        {
          "output_type": "execute_result",
          "data": {
            "application/vnd.google.colaboratory.intrinsic+json": {
              "type": "string"
            },
            "text/plain": [
              "\"What's your name \""
            ]
          },
          "metadata": {
            "tags": []
          },
          "execution_count": 13
        }
      ]
    },
    {
      "cell_type": "markdown",
      "metadata": {
        "id": "grJ6X6aMLLg8"
      },
      "source": [
        "Back to representation of string, there will be issues if you need to include a quotation\n",
        "mark in the text.\n",
        "We provide a example use a apostrophe mark(’) similar with single quotation mark(').\n",
        "You will find that it will show \"SyntaxError: invalid character in identifier\". Just try to change the apostrophe mark with single quotation mark and run it again."
      ]
    },
    {
      "cell_type": "code",
      "metadata": {
        "id": "QcxK0VgBLLg9"
      },
      "source": [
        "text = 'What\\'s your name '"
      ],
      "execution_count": 12,
      "outputs": []
    },
    {
      "cell_type": "markdown",
      "metadata": {
        "id": "HHs3pOo7ummI"
      },
      "source": [
        "<details><summary><u><b><font color=\"Blue\">Click here for solution</u></b></summary>\n",
        "```python\n",
        "    text = ' What\\'s your name?'\n",
        "    print(text)\n",
        "```"
      ]
    },
    {
      "cell_type": "markdown",
      "metadata": {
        "id": "W3vLIE_bLLhC"
      },
      "source": [
        "Since strings in double quotes **\"** work exactly the same way as string in single quotes.\n",
        "By mixing the two types, it is easy to include quotation mark itself in the text."
      ]
    },
    {
      "cell_type": "code",
      "metadata": {
        "colab": {
          "base_uri": "https://localhost:8080/"
        },
        "id": "kcq185ULLLhD",
        "outputId": "07ecac6a-5935-4d54-908b-300bf1c8ea4f"
      },
      "source": [
        "text = \"What' s your name?\"\n",
        "print(text)"
      ],
      "execution_count": 14,
      "outputs": [
        {
          "output_type": "stream",
          "text": [
            "What' s your name?\n"
          ],
          "name": "stdout"
        }
      ]
    },
    {
      "cell_type": "markdown",
      "metadata": {
        "id": "ncHDozPILLhI"
      },
      "source": [
        "Alternatively, you can use:"
      ]
    },
    {
      "cell_type": "code",
      "metadata": {
        "colab": {
          "base_uri": "https://localhost:8080/"
        },
        "id": "X-DGDDQaLLhI",
        "outputId": "2a58753e-c8cd-49ae-9c12-76e8822747b0"
      },
      "source": [
        "text = '\"What is the problem?\", he asked.'\n",
        "print(text)"
      ],
      "execution_count": 15,
      "outputs": [
        {
          "output_type": "stream",
          "text": [
            "\"What is the problem?\", he asked.\n"
          ],
          "name": "stdout"
        }
      ]
    },
    {
      "cell_type": "markdown",
      "metadata": {
        "id": "bwoz8VV2LLhS"
      },
      "source": [
        "You can specify multi-line strings using triple quotes  (**\"\"\"** or **'''**). In this way, single\n",
        "quotes and double quotes can be used freely in the text.\n",
        "Here is one example:"
      ]
    },
    {
      "cell_type": "code",
      "metadata": {
        "colab": {
          "base_uri": "https://localhost:8080/"
        },
        "id": "q1mgdutELLhU",
        "outputId": "9b987305-62ec-4c22-bcb4-6e55e1919ece"
      },
      "source": [
        "multiline = '''This is a test for multiline. This is the first line. \n",
        "This is the second line. \n",
        "I asked, \"What's your name?\"'''\n",
        "print(multiline)"
      ],
      "execution_count": 16,
      "outputs": [
        {
          "output_type": "stream",
          "text": [
            "This is a test for multiline. This is the first line. \n",
            "This is the second line. \n",
            "I asked, \"What's your name?\"\n"
          ],
          "name": "stdout"
        }
      ]
    },
    {
      "cell_type": "markdown",
      "metadata": {
        "id": "i5Kx0MKLLLhZ"
      },
      "source": [
        "Notice the difference when the variable is displayed without **print()** function in this case."
      ]
    },
    {
      "cell_type": "code",
      "metadata": {
        "colab": {
          "base_uri": "https://localhost:8080/",
          "height": 34
        },
        "id": "5j7kVvnnLLhd",
        "outputId": "da128680-66be-4322-baa7-9b3d767db7ad"
      },
      "source": [
        "multiline = '''This is a test for multiline. This is the first line. \n",
        "This is the second line. \n",
        "I asked, \"What's your name?\"'''\n",
        "multiline"
      ],
      "execution_count": 17,
      "outputs": [
        {
          "output_type": "execute_result",
          "data": {
            "application/vnd.google.colaboratory.intrinsic+json": {
              "type": "string"
            },
            "text/plain": [
              "'This is a test for multiline. This is the first line. \\nThis is the second line. \\nI asked, \"What\\'s your name?\"'"
            ]
          },
          "metadata": {
            "tags": []
          },
          "execution_count": 17
        }
      ]
    },
    {
      "cell_type": "markdown",
      "metadata": {
        "id": "glnQnKz6LLhi"
      },
      "source": [
        "Another way of include the special characters, such as single quotes is with help of\n",
        "escape sequences **\\\\**. For example, you can specify the single quote using **\\\\' ** as follows."
      ]
    },
    {
      "cell_type": "code",
      "metadata": {
        "colab": {
          "base_uri": "https://localhost:8080/"
        },
        "id": "DC97cQs2LLhj",
        "outputId": "a8d7ed61-72c1-4adb-cd03-5f1adb96cc0f"
      },
      "source": [
        "string = 'What\\'s your name?'\n",
        "print(string)"
      ],
      "execution_count": 18,
      "outputs": [
        {
          "output_type": "stream",
          "text": [
            "What's your name?\n"
          ],
          "name": "stdout"
        }
      ]
    },
    {
      "cell_type": "markdown",
      "metadata": {
        "id": "kp8W43nnLLhv"
      },
      "source": [
        "There are many more other escape sequences (See Section 2.4.1 in [Python3.0 official document](https://docs.python.org/3.1/reference/lexical_analysis.html)). But I am going to mention the most useful two examples here. \n",
        "\n",
        "First, use escape sequences to indicate the backslash itself e.g. **\\\\\\\\**"
      ]
    },
    {
      "cell_type": "code",
      "metadata": {
        "colab": {
          "base_uri": "https://localhost:8080/"
        },
        "id": "U5PUlblFLLh3",
        "outputId": "e2e43e4a-90ec-4123-9dd4-f9266ea09dfb"
      },
      "source": [
        "path = 'c:\\\\windows\\\\temp'\n",
        "print(path)"
      ],
      "execution_count": 19,
      "outputs": [
        {
          "output_type": "stream",
          "text": [
            "c:\\windows\\temp\n"
          ],
          "name": "stdout"
        }
      ]
    },
    {
      "cell_type": "markdown",
      "metadata": {
        "id": "cm0OdobTLLh9"
      },
      "source": [
        "Second,  used escape sequences to specify a two-line string. Apart from using a triple-quoted\n",
        "string as shown previously, you can use **\\n** to indicate the start of a new line."
      ]
    },
    {
      "cell_type": "code",
      "metadata": {
        "colab": {
          "base_uri": "https://localhost:8080/"
        },
        "id": "6Hx7whpWLLh9",
        "outputId": "c402d310-8536-480a-b307-b59b479a1481"
      },
      "source": [
        "multiline = 'This is a test for multiline. This is the first line.\\nThis is the second line.'\n",
        "print(multiline)"
      ],
      "execution_count": 20,
      "outputs": [
        {
          "output_type": "stream",
          "text": [
            "This is a test for multiline. This is the first line.\n",
            "This is the second line.\n"
          ],
          "name": "stdout"
        }
      ]
    },
    {
      "cell_type": "markdown",
      "metadata": {
        "id": "SxYdplr7LLiB"
      },
      "source": [
        "To manipulate strings, the following two operators are most useful: \n",
        "* ** + ** is use to concatenate two strings or string variables; \n",
        "* ** * ** is used for concatenating several copies of the same string."
      ]
    },
    {
      "cell_type": "code",
      "metadata": {
        "colab": {
          "base_uri": "https://localhost:8080/"
        },
        "id": "atOH5kwTLLiC",
        "outputId": "7df2e8a3-1237-45c8-99c4-f9b46c316b1b"
      },
      "source": [
        "print('Hello, ' + 'World' * 3)"
      ],
      "execution_count": 21,
      "outputs": [
        {
          "output_type": "stream",
          "text": [
            "Hello, WorldWorldWorld\n"
          ],
          "name": "stdout"
        }
      ]
    },
    {
      "cell_type": "markdown",
      "metadata": {
        "id": "3e2FhseULLiE"
      },
      "source": [
        "Below is another example of string concatenation based on  variables that store strings."
      ]
    },
    {
      "cell_type": "code",
      "metadata": {
        "colab": {
          "base_uri": "https://localhost:8080/"
        },
        "id": "b4rw4CjPLLiG",
        "outputId": "5e328250-97cb-4f8f-8c00-e2ace8411109"
      },
      "source": [
        "name = 'World'\n",
        "greeting = 'Hello'\n",
        "print(greeting + ', ' + name + '!')"
      ],
      "execution_count": 22,
      "outputs": [
        {
          "output_type": "stream",
          "text": [
            "Hello, World!\n"
          ],
          "name": "stdout"
        }
      ]
    },
    {
      "cell_type": "markdown",
      "metadata": {
        "id": "ggn2lPQMLLiJ"
      },
      "source": [
        "Using variables, change part of the string text is very easy. "
      ]
    },
    {
      "cell_type": "code",
      "metadata": {
        "colab": {
          "base_uri": "https://localhost:8080/",
          "height": 34
        },
        "id": "i0jfd08dLLiK",
        "outputId": "e774c9e9-0e98-4375-809f-9ea25094e5d8"
      },
      "source": [
        "name"
      ],
      "execution_count": 23,
      "outputs": [
        {
          "output_type": "execute_result",
          "data": {
            "application/vnd.google.colaboratory.intrinsic+json": {
              "type": "string"
            },
            "text/plain": [
              "'World'"
            ]
          },
          "metadata": {
            "tags": []
          },
          "execution_count": 23
        }
      ]
    },
    {
      "cell_type": "code",
      "metadata": {
        "colab": {
          "base_uri": "https://localhost:8080/",
          "height": 34
        },
        "id": "gDymwzHmLLiN",
        "outputId": "d4d95a77-0209-4f65-8f4b-8b8a41cf5b01"
      },
      "source": [
        "greeting"
      ],
      "execution_count": 24,
      "outputs": [
        {
          "output_type": "execute_result",
          "data": {
            "application/vnd.google.colaboratory.intrinsic+json": {
              "type": "string"
            },
            "text/plain": [
              "'Hello'"
            ]
          },
          "metadata": {
            "tags": []
          },
          "execution_count": 24
        }
      ]
    },
    {
      "cell_type": "code",
      "metadata": {
        "colab": {
          "base_uri": "https://localhost:8080/"
        },
        "id": "-xdxHvZlLLiQ",
        "outputId": "362a06fd-b47b-4081-f5af-ea425331977e"
      },
      "source": [
        "# Change part of the text is easy\n",
        "greeting = 'Good morning' \n",
        "print(greeting + ', ' + name + '!')"
      ],
      "execution_count": 25,
      "outputs": [
        {
          "output_type": "stream",
          "text": [
            "Good morning, World!\n"
          ],
          "name": "stdout"
        }
      ]
    },
    {
      "cell_type": "markdown",
      "metadata": {
        "id": "aUcMPHTMLLiS"
      },
      "source": [
        " ## 2.2 Number"
      ]
    },
    {
      "cell_type": "markdown",
      "metadata": {
        "id": "NTaPssJ_LLiT"
      },
      "source": [
        "There are two types of numbers that are used most frequently: integers and floats. As we\n",
        "expect, the standard mathematical operation can be applied to these two types. Please\n",
        "try the following expressions. Note that **\\*\\*** is exponent operator, which indicates\n",
        "exponentiation exponential(power) calculation."
      ]
    },
    {
      "cell_type": "code",
      "metadata": {
        "colab": {
          "base_uri": "https://localhost:8080/"
        },
        "id": "4bJEQg_MLLiU",
        "outputId": "91d9fd96-ff41-438a-d12b-6c95098edfb7"
      },
      "source": [
        "2 + 3"
      ],
      "execution_count": 26,
      "outputs": [
        {
          "output_type": "execute_result",
          "data": {
            "text/plain": [
              "5"
            ]
          },
          "metadata": {
            "tags": []
          },
          "execution_count": 26
        }
      ]
    },
    {
      "cell_type": "code",
      "metadata": {
        "colab": {
          "base_uri": "https://localhost:8080/"
        },
        "id": "p6bV4vC9LLiX",
        "outputId": "e49a12e1-e9d2-4fc1-8398-0580d6cad7dc"
      },
      "source": [
        "3 * 5"
      ],
      "execution_count": 27,
      "outputs": [
        {
          "output_type": "execute_result",
          "data": {
            "text/plain": [
              "15"
            ]
          },
          "metadata": {
            "tags": []
          },
          "execution_count": 27
        }
      ]
    },
    {
      "cell_type": "code",
      "metadata": {
        "colab": {
          "base_uri": "https://localhost:8080/"
        },
        "id": "-Rs_u_qnLLia",
        "outputId": "d1873e5f-47de-4297-c943-ba2dfc29df04"
      },
      "source": [
        "#3 to the power of 4\n",
        "3 ** 4 "
      ],
      "execution_count": 28,
      "outputs": [
        {
          "output_type": "execute_result",
          "data": {
            "text/plain": [
              "81"
            ]
          },
          "metadata": {
            "tags": []
          },
          "execution_count": 28
        }
      ]
    },
    {
      "cell_type": "markdown",
      "metadata": {
        "id": "XTDUWNsPLLie"
      },
      "source": [
        "Among the number operations, we need to look at division closely. In Python 3.0, classic division is performed using  **/**. "
      ]
    },
    {
      "cell_type": "code",
      "metadata": {
        "colab": {
          "base_uri": "https://localhost:8080/"
        },
        "id": "l5ee7L9mLLif",
        "outputId": "19d98dc1-1119-4d93-c02d-9cb25e5f10e1"
      },
      "source": [
        "15 / 5"
      ],
      "execution_count": 29,
      "outputs": [
        {
          "output_type": "execute_result",
          "data": {
            "text/plain": [
              "3.0"
            ]
          },
          "metadata": {
            "tags": []
          },
          "execution_count": 29
        }
      ]
    },
    {
      "cell_type": "code",
      "metadata": {
        "colab": {
          "base_uri": "https://localhost:8080/"
        },
        "id": "ZtobUWNcLLij",
        "outputId": "5127f43b-a0f1-41c9-b53a-f0c296af4d1f"
      },
      "source": [
        "14 / 5"
      ],
      "execution_count": 30,
      "outputs": [
        {
          "output_type": "execute_result",
          "data": {
            "text/plain": [
              "2.8"
            ]
          },
          "metadata": {
            "tags": []
          },
          "execution_count": 30
        }
      ]
    },
    {
      "cell_type": "markdown",
      "metadata": {
        "id": "6ID6qNctLLil"
      },
      "source": [
        "*//* is used to perform floor division. It truncates the fraction and rounds it to the next smallest whole number toward the left on the number line."
      ]
    },
    {
      "cell_type": "code",
      "metadata": {
        "colab": {
          "base_uri": "https://localhost:8080/"
        },
        "id": "hT18fhA8LLim",
        "outputId": "f22f7c12-d66b-49c0-e671-e05c915a4ddc"
      },
      "source": [
        "14 // 5"
      ],
      "execution_count": 31,
      "outputs": [
        {
          "output_type": "execute_result",
          "data": {
            "text/plain": [
              "2"
            ]
          },
          "metadata": {
            "tags": []
          },
          "execution_count": 31
        }
      ]
    },
    {
      "cell_type": "code",
      "metadata": {
        "colab": {
          "base_uri": "https://localhost:8080/"
        },
        "id": "Jj02iHTpLLip",
        "outputId": "16731acd-0314-4d2c-f82b-9af545fc7be2"
      },
      "source": [
        "# Negatives move left on number line. The result is -3 instead of  -2\n",
        "-14 // 5 "
      ],
      "execution_count": 32,
      "outputs": [
        {
          "output_type": "execute_result",
          "data": {
            "text/plain": [
              "-3"
            ]
          },
          "metadata": {
            "tags": []
          },
          "execution_count": 32
        }
      ]
    },
    {
      "cell_type": "markdown",
      "metadata": {
        "id": "Z-YaXqCSLLir"
      },
      "source": [
        "Modulus operator **%** can be used to obtain remainder. Pay attention when negative number is involved."
      ]
    },
    {
      "cell_type": "code",
      "metadata": {
        "colab": {
          "base_uri": "https://localhost:8080/"
        },
        "id": "WIZ3IGCILLis",
        "outputId": "9f741ee7-e5f8-4eb1-cc0f-5818022a5692"
      },
      "source": [
        "14 % 5"
      ],
      "execution_count": 33,
      "outputs": [
        {
          "output_type": "execute_result",
          "data": {
            "text/plain": [
              "4"
            ]
          },
          "metadata": {
            "tags": []
          },
          "execution_count": 33
        }
      ]
    },
    {
      "cell_type": "code",
      "metadata": {
        "colab": {
          "base_uri": "https://localhost:8080/"
        },
        "id": "4Ao-du3_LLix",
        "outputId": "1f55785c-5f4d-4170-c352-556e0345ed7a"
      },
      "source": [
        "# Hint:  −14 // 5 equal to −3\n",
        "#        (-3) * 5 +  ? = -14\n",
        "\n",
        "-14 % 5 "
      ],
      "execution_count": 34,
      "outputs": [
        {
          "output_type": "execute_result",
          "data": {
            "text/plain": [
              "1"
            ]
          },
          "metadata": {
            "tags": []
          },
          "execution_count": 34
        }
      ]
    },
    {
      "cell_type": "markdown",
      "metadata": {
        "id": "I0sASGehLLiz"
      },
      "source": [
        "*Operator precedence* is a rule that affects how an expression is evaluated. As we learned in high school, the multiplication is done first than the addition. e.g. **2 + 3 * 4**. This means multiplication operator has higher precedence than the addition operator.\n",
        "\n",
        "For your reference, a precedence table from the python reference manual is used to indicate the evaluation order in Python.  For a complete precedence table, check the heading \"Python Operators Precedence\" in this [Python tutorial](http://www.tutorialspoint.com/python/python_basic_operators.htm)\n",
        "\n",
        "\n",
        "However, When things get confused, it is far better to use parentheses **()** to explicitly\n",
        "specify the precedence. This makes the program more readable.\n",
        "\n",
        "Here are some examples on operator precedence:"
      ]
    },
    {
      "cell_type": "code",
      "metadata": {
        "colab": {
          "base_uri": "https://localhost:8080/"
        },
        "id": "Q8-htgKSLLi0",
        "outputId": "7c53ee9a-81bd-46ff-f9f3-433b9d134013"
      },
      "source": [
        "2 + 3 * 4"
      ],
      "execution_count": 35,
      "outputs": [
        {
          "output_type": "execute_result",
          "data": {
            "text/plain": [
              "14"
            ]
          },
          "metadata": {
            "tags": []
          },
          "execution_count": 35
        }
      ]
    },
    {
      "cell_type": "code",
      "metadata": {
        "colab": {
          "base_uri": "https://localhost:8080/"
        },
        "id": "MTstkwWoLLi2",
        "outputId": "907aa2ba-a5f1-4977-903b-5cf0282dad9f"
      },
      "source": [
        "(2 + 3) * 4"
      ],
      "execution_count": 36,
      "outputs": [
        {
          "output_type": "execute_result",
          "data": {
            "text/plain": [
              "20"
            ]
          },
          "metadata": {
            "tags": []
          },
          "execution_count": 36
        }
      ]
    },
    {
      "cell_type": "code",
      "metadata": {
        "colab": {
          "base_uri": "https://localhost:8080/"
        },
        "id": "X5zqw9gQLLi6",
        "outputId": "4a0ad916-45e9-4625-f7a4-02c91cf1740c"
      },
      "source": [
        "2 + 3 ** 2"
      ],
      "execution_count": 37,
      "outputs": [
        {
          "output_type": "execute_result",
          "data": {
            "text/plain": [
              "11"
            ]
          },
          "metadata": {
            "tags": []
          },
          "execution_count": 37
        }
      ]
    },
    {
      "cell_type": "code",
      "metadata": {
        "colab": {
          "base_uri": "https://localhost:8080/"
        },
        "id": "2J5jmyrALLi8",
        "outputId": "75960a36-1789-45c9-c8fa-39b273b8bd74"
      },
      "source": [
        "(2 + 3) ** 2"
      ],
      "execution_count": 38,
      "outputs": [
        {
          "output_type": "execute_result",
          "data": {
            "text/plain": [
              "25"
            ]
          },
          "metadata": {
            "tags": []
          },
          "execution_count": 38
        }
      ]
    },
    {
      "cell_type": "code",
      "metadata": {
        "colab": {
          "base_uri": "https://localhost:8080/"
        },
        "id": "4c0ohRKmLLi-",
        "outputId": "c93b851f-c186-401f-a8bf-cba59f5af639"
      },
      "source": [
        "-(4+3)+2"
      ],
      "execution_count": 39,
      "outputs": [
        {
          "output_type": "execute_result",
          "data": {
            "text/plain": [
              "-5"
            ]
          },
          "metadata": {
            "tags": []
          },
          "execution_count": 39
        }
      ]
    },
    {
      "cell_type": "markdown",
      "metadata": {
        "id": "6QklYZFXLLjB"
      },
      "source": [
        "Similarly as string, variables can be used to store a number so that it is easy to manipulate them."
      ]
    },
    {
      "cell_type": "code",
      "metadata": {
        "colab": {
          "base_uri": "https://localhost:8080/"
        },
        "id": "TsmyIIe0LLjC",
        "outputId": "0b0e57f2-64a1-441b-fd10-411a0ff02b62"
      },
      "source": [
        "x = 3\n",
        "y = 2\n",
        "x + 2"
      ],
      "execution_count": 40,
      "outputs": [
        {
          "output_type": "execute_result",
          "data": {
            "text/plain": [
              "5"
            ]
          },
          "metadata": {
            "tags": []
          },
          "execution_count": 40
        }
      ]
    },
    {
      "cell_type": "code",
      "metadata": {
        "colab": {
          "base_uri": "https://localhost:8080/"
        },
        "id": "joZHkCbELLjJ",
        "outputId": "e2ffc7a5-ee9c-43df-deb8-48a55dfaf79b"
      },
      "source": [
        "sum = x + y\n",
        "sum"
      ],
      "execution_count": 41,
      "outputs": [
        {
          "output_type": "execute_result",
          "data": {
            "text/plain": [
              "5"
            ]
          },
          "metadata": {
            "tags": []
          },
          "execution_count": 41
        }
      ]
    },
    {
      "cell_type": "code",
      "metadata": {
        "colab": {
          "base_uri": "https://localhost:8080/"
        },
        "id": "2lzP8lYMLLjU",
        "outputId": "d193b5db-2f28-49d3-b81b-96353afb70fd"
      },
      "source": [
        "x * y"
      ],
      "execution_count": 42,
      "outputs": [
        {
          "output_type": "execute_result",
          "data": {
            "text/plain": [
              "6"
            ]
          },
          "metadata": {
            "tags": []
          },
          "execution_count": 42
        }
      ]
    },
    {
      "cell_type": "markdown",
      "metadata": {
        "id": "1gsMSLAgLLjW"
      },
      "source": [
        "One common expression is to run a math operation on a variable and then assign the result of the operation back to the variable. Therefore, there is a shortcut for such a expression. "
      ]
    },
    {
      "cell_type": "code",
      "metadata": {
        "colab": {
          "base_uri": "https://localhost:8080/"
        },
        "id": "D1hxyg1mLLjX",
        "outputId": "89ac2baa-e559-4bcb-8643-d5b07c4008cb"
      },
      "source": [
        "x = 2\n",
        "x = x * 3\n",
        "x"
      ],
      "execution_count": 43,
      "outputs": [
        {
          "output_type": "execute_result",
          "data": {
            "text/plain": [
              "6"
            ]
          },
          "metadata": {
            "tags": []
          },
          "execution_count": 43
        }
      ]
    },
    {
      "cell_type": "markdown",
      "metadata": {
        "id": "M5b_TPipLLjZ"
      },
      "source": [
        "This is equivalent to:"
      ]
    },
    {
      "cell_type": "code",
      "metadata": {
        "colab": {
          "base_uri": "https://localhost:8080/"
        },
        "id": "Qb0BdkZ9LLja",
        "outputId": "9f821dc2-651d-4605-9e68-7387496af815"
      },
      "source": [
        "x = 2\n",
        "# Note there is no space between '*' and '+'\n",
        "x *= 3\n",
        "x"
      ],
      "execution_count": 44,
      "outputs": [
        {
          "output_type": "execute_result",
          "data": {
            "text/plain": [
              "6"
            ]
          },
          "metadata": {
            "tags": []
          },
          "execution_count": 44
        }
      ]
    },
    {
      "cell_type": "markdown",
      "metadata": {
        "id": "Mk39mzf8LLjd"
      },
      "source": [
        "## 2.3 Data conversion and comparison"
      ]
    },
    {
      "cell_type": "markdown",
      "metadata": {
        "id": "DI609niBLLje"
      },
      "source": [
        "So far, we have seen three types of data: integer, float, and string. With various data type, Python can define the operations possible on them and the storage method for each of them. In the later pracs, we will further introduce more data types, such as tuple, list and dictionary. \n",
        "\n",
        "To obtain the data type of a variable or a value, we can use built-in function **type()**;\n",
        "whereas functions, such as **str()**, **int()**, **float()**, are used to convert data one  type to another. Check the following examples on the usage of these functions:"
      ]
    },
    {
      "cell_type": "code",
      "metadata": {
        "colab": {
          "base_uri": "https://localhost:8080/"
        },
        "id": "V62kYzxKLLjf",
        "outputId": "44bd384e-3eb8-452b-d36f-fed6301eb2f0"
      },
      "source": [
        "type('Hello, world!)')"
      ],
      "execution_count": 45,
      "outputs": [
        {
          "output_type": "execute_result",
          "data": {
            "text/plain": [
              "str"
            ]
          },
          "metadata": {
            "tags": []
          },
          "execution_count": 45
        }
      ]
    },
    {
      "cell_type": "code",
      "metadata": {
        "colab": {
          "base_uri": "https://localhost:8080/"
        },
        "id": "Boe-ivfiLLjh",
        "outputId": "80cf16b1-899f-4640-bd58-d37985edf2b9"
      },
      "source": [
        "input_Value = '45.6'\n",
        "type(input_Value)"
      ],
      "execution_count": 46,
      "outputs": [
        {
          "output_type": "execute_result",
          "data": {
            "text/plain": [
              "str"
            ]
          },
          "metadata": {
            "tags": []
          },
          "execution_count": 46
        }
      ]
    },
    {
      "cell_type": "code",
      "metadata": {
        "colab": {
          "base_uri": "https://localhost:8080/"
        },
        "id": "4wGHArWZLLji",
        "outputId": "d00e7cc9-8bbf-4d80-ebe4-5c9a458d7a42"
      },
      "source": [
        "weight = float(input_Value)\n",
        "weight\n",
        "type(weight)"
      ],
      "execution_count": 47,
      "outputs": [
        {
          "output_type": "execute_result",
          "data": {
            "text/plain": [
              "float"
            ]
          },
          "metadata": {
            "tags": []
          },
          "execution_count": 47
        }
      ]
    },
    {
      "cell_type": "markdown",
      "metadata": {
        "id": "T7mJiYNiLLjk"
      },
      "source": [
        "Note the system will report error message when the conversion function is not compatible with the data."
      ]
    },
    {
      "cell_type": "code",
      "metadata": {
        "colab": {
          "base_uri": "https://localhost:8080/",
          "height": 184
        },
        "id": "i9bnxwLRLLjk",
        "outputId": "19d1f5c4-f3a7-454d-b5c0-e4cf479e3c7f"
      },
      "source": [
        "input_Value = 'David'\n",
        "weight = float(input_Value)"
      ],
      "execution_count": 48,
      "outputs": [
        {
          "output_type": "error",
          "ename": "ValueError",
          "evalue": "ignored",
          "traceback": [
            "\u001b[0;31m---------------------------------------------------------------------------\u001b[0m",
            "\u001b[0;31mValueError\u001b[0m                                Traceback (most recent call last)",
            "\u001b[0;32m<ipython-input-48-d2e5d8c88ee0>\u001b[0m in \u001b[0;36m<module>\u001b[0;34m()\u001b[0m\n\u001b[1;32m      1\u001b[0m \u001b[0minput_Value\u001b[0m \u001b[0;34m=\u001b[0m \u001b[0;34m'David'\u001b[0m\u001b[0;34m\u001b[0m\u001b[0;34m\u001b[0m\u001b[0m\n\u001b[0;32m----> 2\u001b[0;31m \u001b[0mweight\u001b[0m \u001b[0;34m=\u001b[0m \u001b[0mfloat\u001b[0m\u001b[0;34m(\u001b[0m\u001b[0minput_Value\u001b[0m\u001b[0;34m)\u001b[0m\u001b[0;34m\u001b[0m\u001b[0;34m\u001b[0m\u001b[0m\n\u001b[0m",
            "\u001b[0;31mValueError\u001b[0m: could not convert string to float: 'David'"
          ]
        }
      ]
    },
    {
      "cell_type": "markdown",
      "metadata": {
        "id": "s_NS6zzbLLjl"
      },
      "source": [
        "Comparison between two values can help make decision in a program. The result of the comparison is either **True** or **False**. They are the two values of *Boolean* type."
      ]
    },
    {
      "cell_type": "code",
      "metadata": {
        "colab": {
          "base_uri": "https://localhost:8080/"
        },
        "id": "hpz8oajsLLjp",
        "outputId": "23b98aab-2a36-4693-b20f-15e6d68ac29b"
      },
      "source": [
        "5 > 10"
      ],
      "execution_count": 49,
      "outputs": [
        {
          "output_type": "execute_result",
          "data": {
            "text/plain": [
              "False"
            ]
          },
          "metadata": {
            "tags": []
          },
          "execution_count": 49
        }
      ]
    },
    {
      "cell_type": "code",
      "metadata": {
        "colab": {
          "base_uri": "https://localhost:8080/"
        },
        "id": "vZnUQd69LLjx",
        "outputId": "f26ec409-a1d9-4db2-ee15-c40c38708867"
      },
      "source": [
        "type(5 > 10)"
      ],
      "execution_count": 50,
      "outputs": [
        {
          "output_type": "execute_result",
          "data": {
            "text/plain": [
              "bool"
            ]
          },
          "metadata": {
            "tags": []
          },
          "execution_count": 50
        }
      ]
    },
    {
      "cell_type": "code",
      "metadata": {
        "colab": {
          "base_uri": "https://localhost:8080/"
        },
        "id": "Zfw9EfrqLLj0",
        "outputId": "b7d37dc0-3431-44fa-9a5d-6a21250af0d4"
      },
      "source": [
        "# Double equal sign is also used for comparison\n",
        "10.0 == 10"
      ],
      "execution_count": 51,
      "outputs": [
        {
          "output_type": "execute_result",
          "data": {
            "text/plain": [
              "True"
            ]
          },
          "metadata": {
            "tags": []
          },
          "execution_count": 51
        }
      ]
    },
    {
      "cell_type": "markdown",
      "metadata": {
        "id": "_rZvY3UlLLj1"
      },
      "source": [
        "Check the following examples on comparison of two strings."
      ]
    },
    {
      "cell_type": "code",
      "metadata": {
        "colab": {
          "base_uri": "https://localhost:8080/"
        },
        "id": "l4dFT7CYLLj1",
        "outputId": "fcb0e7cd-bffe-4d50-bc0a-3376ebf65a6f"
      },
      "source": [
        "'cat' < 'dog'"
      ],
      "execution_count": 52,
      "outputs": [
        {
          "output_type": "execute_result",
          "data": {
            "text/plain": [
              "True"
            ]
          },
          "metadata": {
            "tags": []
          },
          "execution_count": 52
        }
      ]
    },
    {
      "cell_type": "code",
      "metadata": {
        "colab": {
          "base_uri": "https://localhost:8080/"
        },
        "id": "EzfdIp6XLLj3",
        "outputId": "a369229a-6bff-455e-97b7-e8119e8907d1"
      },
      "source": [
        "# All uppercases are smaller than low cases in terms of ASCII code. It will compare each character from the beginning to the end between two words based on their ACSII code value.\n",
        "'cat' < 'Dog'"
      ],
      "execution_count": 53,
      "outputs": [
        {
          "output_type": "execute_result",
          "data": {
            "text/plain": [
              "False"
            ]
          },
          "metadata": {
            "tags": []
          },
          "execution_count": 53
        }
      ]
    },
    {
      "cell_type": "code",
      "metadata": {
        "colab": {
          "base_uri": "https://localhost:8080/"
        },
        "id": "s88N5oeRLLj4",
        "outputId": "7e97eeb1-40fc-46ee-ed4f-67c3fa424093"
      },
      "source": [
        "'apple' < 'apricot'"
      ],
      "execution_count": 54,
      "outputs": [
        {
          "output_type": "execute_result",
          "data": {
            "text/plain": [
              "True"
            ]
          },
          "metadata": {
            "tags": []
          },
          "execution_count": 54
        }
      ]
    },
    {
      "cell_type": "markdown",
      "metadata": {
        "id": "SRn9iUKrLLj8"
      },
      "source": [
        "There are three logical operators, *not*, *and* and *or*, which can  be applied to the boolean values. "
      ]
    },
    {
      "cell_type": "code",
      "metadata": {
        "colab": {
          "base_uri": "https://localhost:8080/"
        },
        "id": "TJOHXNYOLLj8",
        "outputId": "f5c935bb-08f3-4933-b464-08646603126b"
      },
      "source": [
        "# Both condition #1 and condition #2 are True?\n",
        "3 < 4  and 7 < 8"
      ],
      "execution_count": 55,
      "outputs": [
        {
          "output_type": "execute_result",
          "data": {
            "text/plain": [
              "True"
            ]
          },
          "metadata": {
            "tags": []
          },
          "execution_count": 55
        }
      ]
    },
    {
      "cell_type": "code",
      "metadata": {
        "colab": {
          "base_uri": "https://localhost:8080/"
        },
        "id": "e3678xUuLLj9",
        "outputId": "e0604276-f520-44cf-d41c-5e3b9a7061b6"
      },
      "source": [
        "# Either condition 1 or condition 2 are True?\n",
        "3 < 4  or 7 > 8"
      ],
      "execution_count": 56,
      "outputs": [
        {
          "output_type": "execute_result",
          "data": {
            "text/plain": [
              "True"
            ]
          },
          "metadata": {
            "tags": []
          },
          "execution_count": 56
        }
      ]
    },
    {
      "cell_type": "code",
      "metadata": {
        "colab": {
          "base_uri": "https://localhost:8080/"
        },
        "id": "AgVnOhigLLj-",
        "outputId": "6e97b328-6848-4722-9e9f-e5c44a7f33c3"
      },
      "source": [
        "# Both conditional #1 and conditional #2 are False?\n",
        "not ((3 > 4) or (7 > 8))"
      ],
      "execution_count": 57,
      "outputs": [
        {
          "output_type": "execute_result",
          "data": {
            "text/plain": [
              "True"
            ]
          },
          "metadata": {
            "tags": []
          },
          "execution_count": 57
        }
      ]
    },
    {
      "cell_type": "markdown",
      "metadata": {
        "id": "B3ClkWDGLLkG"
      },
      "source": [
        "## 2. 4. Input and output"
      ]
    },
    {
      "cell_type": "markdown",
      "metadata": {
        "id": "DWqLiEZ1LLkH"
      },
      "source": [
        "All programming languages provide features to interact with user. Python provide *input()* function to get input. It waits for the user to type some input and press return. We can add some information for the user by putting a message inside the function's brackets. It must be a string or a string variable. The text that was typed can be saved in a variable. Here is one example:"
      ]
    },
    {
      "cell_type": "code",
      "metadata": {
        "colab": {
          "base_uri": "https://localhost:8080/"
        },
        "id": "uotQ6pd8LLkH",
        "outputId": "d07293d4-208b-406a-ac2d-61df797a58c6"
      },
      "source": [
        "nInput  = input('Enter you number here:\\n')"
      ],
      "execution_count": 58,
      "outputs": [
        {
          "output_type": "stream",
          "text": [
            "Enter you number here:\n",
            "fsdfsd\n"
          ],
          "name": "stdout"
        }
      ]
    },
    {
      "cell_type": "markdown",
      "metadata": {
        "id": "jhMpU6dfLLkJ"
      },
      "source": [
        "However, be aware that the input received from the user are treated as a string, even\n",
        "though a user entered a number. The following **print()** function invokes an error message. "
      ]
    },
    {
      "cell_type": "code",
      "metadata": {
        "colab": {
          "base_uri": "https://localhost:8080/",
          "height": 166
        },
        "id": "otpC8BEbLLkJ",
        "outputId": "85c92420-759b-45dd-893a-5c6ec607c6bd"
      },
      "source": [
        "print(nInput + 3)"
      ],
      "execution_count": 59,
      "outputs": [
        {
          "output_type": "error",
          "ename": "TypeError",
          "evalue": "ignored",
          "traceback": [
            "\u001b[0;31m---------------------------------------------------------------------------\u001b[0m",
            "\u001b[0;31mTypeError\u001b[0m                                 Traceback (most recent call last)",
            "\u001b[0;32m<ipython-input-59-085edcabe00c>\u001b[0m in \u001b[0;36m<module>\u001b[0;34m()\u001b[0m\n\u001b[0;32m----> 1\u001b[0;31m \u001b[0mprint\u001b[0m\u001b[0;34m(\u001b[0m\u001b[0mnInput\u001b[0m \u001b[0;34m+\u001b[0m \u001b[0;36m3\u001b[0m\u001b[0;34m)\u001b[0m\u001b[0;34m\u001b[0m\u001b[0;34m\u001b[0m\u001b[0m\n\u001b[0m",
            "\u001b[0;31mTypeError\u001b[0m: can only concatenate str (not \"int\") to str"
          ]
        }
      ]
    },
    {
      "cell_type": "markdown",
      "metadata": {
        "id": "FaIP1_b4LLkL"
      },
      "source": [
        "The input need to be converted to an integer before the match operation can be performed as follows because the string data cannot add the integer data directly. They are totally different two types of data."
      ]
    },
    {
      "cell_type": "code",
      "metadata": {
        "colab": {
          "base_uri": "https://localhost:8080/",
          "height": 166
        },
        "id": "pe9Ey8M-LLkL",
        "outputId": "b3cbc2c9-14c0-4e76-db39-eb196716ef24"
      },
      "source": [
        "print(int(nInput) + 3)"
      ],
      "execution_count": 60,
      "outputs": [
        {
          "output_type": "error",
          "ename": "ValueError",
          "evalue": "ignored",
          "traceback": [
            "\u001b[0;31m---------------------------------------------------------------------------\u001b[0m",
            "\u001b[0;31mValueError\u001b[0m                                Traceback (most recent call last)",
            "\u001b[0;32m<ipython-input-60-fac95bc23d8d>\u001b[0m in \u001b[0;36m<module>\u001b[0;34m()\u001b[0m\n\u001b[0;32m----> 1\u001b[0;31m \u001b[0mprint\u001b[0m\u001b[0;34m(\u001b[0m\u001b[0mint\u001b[0m\u001b[0;34m(\u001b[0m\u001b[0mnInput\u001b[0m\u001b[0;34m)\u001b[0m \u001b[0;34m+\u001b[0m \u001b[0;36m3\u001b[0m\u001b[0;34m)\u001b[0m\u001b[0;34m\u001b[0m\u001b[0;34m\u001b[0m\u001b[0m\n\u001b[0m",
            "\u001b[0;31mValueError\u001b[0m: invalid literal for int() with base 10: 'fsdfsd'"
          ]
        }
      ]
    },
    {
      "cell_type": "markdown",
      "metadata": {
        "id": "hWChILEcLLkP"
      },
      "source": [
        "After user's input are accepted, the messages need to be displayed to the user accordingly. String concatenation is one way to display messages which incorporate variable values. "
      ]
    },
    {
      "cell_type": "code",
      "metadata": {
        "colab": {
          "base_uri": "https://localhost:8080/"
        },
        "id": "UBLRtd-kLLkP",
        "outputId": "ef6805fc-59c6-40fa-f3cb-ff3cb609ecfa"
      },
      "source": [
        "name = 'David'\n",
        "print('Hello, ' + name)"
      ],
      "execution_count": 61,
      "outputs": [
        {
          "output_type": "stream",
          "text": [
            "Hello, David\n"
          ],
          "name": "stdout"
        }
      ]
    },
    {
      "cell_type": "markdown",
      "metadata": {
        "id": "OyEkpA3mLLkR"
      },
      "source": [
        "Another way of achieving this is using **print()** function with *string formatting*. We need to use the *string formatting operator*, the percent(**%**) sign. "
      ]
    },
    {
      "cell_type": "code",
      "metadata": {
        "colab": {
          "base_uri": "https://localhost:8080/"
        },
        "id": "33qCABY9LLkS",
        "outputId": "1b28f404-06ca-402f-d42c-b35386b86d59"
      },
      "source": [
        "name = 'David'\n",
        "print('Hello, %s' % name)"
      ],
      "execution_count": 62,
      "outputs": [
        {
          "output_type": "stream",
          "text": [
            "Hello, David\n"
          ],
          "name": "stdout"
        }
      ]
    },
    {
      "cell_type": "markdown",
      "metadata": {
        "id": "UvuFlcAcLLkW"
      },
      "source": [
        "Here is another example with two variables:"
      ]
    },
    {
      "cell_type": "code",
      "metadata": {
        "colab": {
          "base_uri": "https://localhost:8080/"
        },
        "id": "-cFfoUp5LLkX",
        "outputId": "a7fe759f-39fc-4967-c58e-14d6ad49eba1"
      },
      "source": [
        "name = 'David'\n",
        "age = 23\n",
        "print('%s is %d years old.' % (name, age))"
      ],
      "execution_count": 63,
      "outputs": [
        {
          "output_type": "stream",
          "text": [
            "David is 23 years old.\n"
          ],
          "name": "stdout"
        }
      ]
    },
    {
      "cell_type": "markdown",
      "metadata": {
        "id": "MZQSERheLLkl"
      },
      "source": [
        "Notice that the two variables, **name**, **age**, that specify the values are included at the end of the statement, and enclosed with a bracket. \n",
        "\n",
        "With the quotation mark,  **%s** and **%d** are used to specify formatting for string and integer respectively. \n",
        "The following table shows a selected set of symbols which can be used along with %. "
      ]
    },
    {
      "cell_type": "markdown",
      "metadata": {
        "id": "1wKLT4k4LLkl"
      },
      "source": [
        "<table width=\"304\" border=\"1\">\n",
        "  <tr>\n",
        "    <th width=\"112\" scope=\"col\">Format symbol</th>\n",
        "    <th width=\"176\" scope=\"col\">Conversion</th>\n",
        "  </tr>\n",
        "  <tr>\n",
        "    <td>%s</td>\n",
        "    <td>String</td>\n",
        "  </tr>\n",
        "  <tr>\n",
        "    <td>%d</td>\n",
        "    <td>Signed decimal integer</td>\n",
        "  </tr>\n",
        "  <tr>\n",
        "    <td>%f</td>\n",
        "    <td>Floating point real number</td>\n",
        "  </tr>\n",
        "</table>"
      ]
    },
    {
      "cell_type": "markdown",
      "metadata": {
        "id": "Q0_RdlHALLkm"
      },
      "source": [
        "There are extra characters that are used together with above symbols:"
      ]
    },
    {
      "cell_type": "markdown",
      "metadata": {
        "id": "iaQEU8mCLLkm"
      },
      "source": [
        "<table width=\"400\" border=\"1\">\n",
        "  <tr>\n",
        "    <th width=\"100\" scope=\"col\">Symbol</th>\n",
        "    <th width=\"3000\" scope=\"col\">Functionality</th>\n",
        "  </tr>\n",
        "  <tr>\n",
        "    <td>-</td>\n",
        "    <td>Left justification</td>\n",
        "  </tr>\n",
        "  <tr>\n",
        "    <td>+</td>\n",
        "    <td>Display the sign</td>\n",
        "  </tr>\n",
        "  <tr>\n",
        "    <td>m.n</td>\n",
        "    <td>m is the minimum total width; n is the number of digits to display after the decimal point</td>\n",
        "  </tr>\n",
        "</table>"
      ]
    },
    {
      "cell_type": "markdown",
      "metadata": {
        "id": "jfsOdi7pLLkn"
      },
      "source": [
        "Here are  more examples that use above specifiers:"
      ]
    },
    {
      "cell_type": "code",
      "metadata": {
        "colab": {
          "base_uri": "https://localhost:8080/"
        },
        "id": "9CSC_2NOLLkn",
        "outputId": "5ff73934-093c-4d76-84b7-e96505dca259"
      },
      "source": [
        "# With %f, the format is right justification by default. \n",
        "# As a result, white spaces are added to the left of the number\n",
        "# 10.4 means minimal width 10 with 4 decimal points\n",
        "print('Output a float number: %10.4f' % (3.5))"
      ],
      "execution_count": 64,
      "outputs": [
        {
          "output_type": "stream",
          "text": [
            "Output a float number:     3.5000\n"
          ],
          "name": "stdout"
        }
      ]
    },
    {
      "cell_type": "code",
      "metadata": {
        "colab": {
          "base_uri": "https://localhost:8080/"
        },
        "id": "FeXQfC1OLLkq",
        "outputId": "e42204c4-2367-4191-c3c5-aeb1060f095c"
      },
      "source": [
        "# plus sign after % means to show positive sign\n",
        "# Zero after plus sign means using leading zero to fill width of 5\n",
        "print('Output an integer: %+05d' % (23))"
      ],
      "execution_count": 65,
      "outputs": [
        {
          "output_type": "stream",
          "text": [
            "Output an integer: +0023\n"
          ],
          "name": "stdout"
        }
      ]
    },
    {
      "cell_type": "markdown",
      "metadata": {
        "id": "tlMQpvLnLLkt"
      },
      "source": [
        "### 2.5 Notes on *Python 2*\n",
        "\n",
        "You need to pay attention if you test examples in this prac under *Python* 2.  \n",
        "\n",
        "1. In *Python 3,  * **/** is float division, and  **//** is integer division; while in Python 2, \n",
        "\tboth **/** and **//**\n",
        "\tperform *integer division*.  \n",
        "\tHowever, if you stick to using **float(3)/2** for *float division*, \n",
        "\tand **3/2** for *integer division*, \n",
        "\tyou will have no problem in both version. \n",
        "    \n",
        "2. Instead using function **input()**,  \n",
        "\t**raw_input()** is used in Python 2. \n",
        "\tBoth functions have the same functionality,\n",
        "\ti.e. take what the user typed and passes it back as a string.\n",
        "    \n",
        "3. Although both versions support **print()** function with same format, \n",
        "\tPython 2 also allows  the print statement (e.g. **print \"Hello, World!\"**), \n",
        "\twhich is not valid in Python 3. \n",
        "\tHowever, if you stick to our examples and using **print()** function with parentheses, \n",
        "\tyour programs should works fine in both versions.  "
      ]
    }
  ]
}